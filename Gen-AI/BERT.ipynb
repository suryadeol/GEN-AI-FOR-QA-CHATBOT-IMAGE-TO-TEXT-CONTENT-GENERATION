{
 "cells": [
  {
   "cell_type": "code",
   "execution_count": 1,
   "id": "2568a470",
   "metadata": {},
   "outputs": [
    {
     "name": "stdout",
     "output_type": "stream",
     "text": [
      "data/config.json\n",
      "data/pytorch_model.bin\n",
      "data/special_tokens_map.json\n",
      "data/tokenizer_config.json\n",
      "data/vocab.txt\n"
     ]
    }
   ],
   "source": [
    "import numpy as np \n",
    "import pandas as pd \n",
    "import os\n",
    "for dirname, _, filenames in os.walk('data/'):\n",
    "    for filename in filenames:\n",
    "        print(os.path.join(dirname, filename))"
   ]
  },
  {
   "cell_type": "code",
   "execution_count": 2,
   "id": "98bf16df",
   "metadata": {},
   "outputs": [],
   "source": [
    "answer_text=\"\"\"\n",
    "Profile of Narendra ModiFull Name: Narendra Damodardas ModiBirth: September 17, 1950 (age 72)Vadnagar, Mehsana, Gujarat, IndiaPolitical Party: Bharatiya Janata Party (BJP)Designation: Prime Minister of India (since 2014) Member of Parliament for Varanasi (since 2014)Early Life and Education: Born into a financially humble family in Vadnagar, Gujarat. Left home at age 17 to become a monk in the Rashtriya Swayamsevak Sangh (RSS), a Hindu nationalist organization. Received a Master's degree in Political Science from Gujarat University in 1983.Political Career: Joined the Bharatiya Janata Party (BJP) in 1987. Elected as Chief Minister of Gujarat in 2001, a position he held for three consecutive terms until 2014. As Chief Minister, known for his development-oriented policies, such as infrastructure projects and economic reforms. Controversially implicated in the 2002 Gujarat riots, which he has denied any involvement in.Prime Ministership: Elected Prime Minister of India in 2014. Secured a landslide victory in the 2019 general election, becoming the first non-Congress Prime Minister to win a second term with an absolute majority. Implemented various policies, including: \"Make in India\" campaign to promote domestic manufacturing. \"Swachh Bharat Mission\" for improved sanitation. \"Digital India\" initiative to enhance digital infrastructure. Revocation of Article 370, granting special status to Jammu and Kashmir.Ideology and Policies: Regarded as a \"nationalist\" and \"Hindutva\" advocate, promoting Hindu cultural values. Focused on economic development, national security, and social welfare. Has emphasized the importance of a strong and independent India.Controversies and Criticism: Accused of promoting divisive politics and polarizing society. Faced allegations of authoritarianism and suppression of dissent. Criticized for handling the COVID-19 pandemic and the ensuing economic crisis.Awards and Recognition: Time magazine's \"Person of the Year\" in 2015. Seoul Peace Prize in 2018. Order of the Crown of Abu Dhabi in 2019. Champions of the Earth award from the United Nations Environment Programme (UNEP) in 2022.\n",
    "\"\"\""
   ]
  },
  {
   "cell_type": "code",
   "execution_count": 3,
   "id": "a28eba4d",
   "metadata": {},
   "outputs": [],
   "source": [
    "question= \"who born on september 17, 1950?\""
   ]
  },
  {
   "cell_type": "code",
   "execution_count": 5,
   "id": "69ba19b7",
   "metadata": {},
   "outputs": [],
   "source": [
    "import torch\n",
    "from transformers import BertForQuestionAnswering\n",
    "\n",
    "\n",
    "model = BertForQuestionAnswering.from_pretrained(r'data/')\n",
    "\n",
    "\n",
    "from transformers import BertTokenizer\n",
    "\n",
    "tokenizer = BertTokenizer.from_pretrained(r'data/')"
   ]
  },
  {
   "cell_type": "code",
   "execution_count": 6,
   "id": "31314d43",
   "metadata": {},
   "outputs": [
    {
     "name": "stderr",
     "output_type": "stream",
     "text": [
      "Keyword arguments {'add_special': True} not recognized.\n",
      "Keyword arguments {'add_special': True} not recognized.\n"
     ]
    },
    {
     "name": "stdout",
     "output_type": "stream",
     "text": [
      "Query has 451 tokens.\n",
      "\n"
     ]
    }
   ],
   "source": [
    "#tokenize\n",
    "\n",
    "encoded_dict = tokenizer.encode_plus(text=question,text_pair=answer_text, add_special=True)\n",
    "    \n",
    "    \n",
    "# Apply the tokenizer to the input text, treating them as a text-pair.\n",
    "input_ids = encoded_dict['input_ids']\n",
    "\n",
    "# Report how long the input sequence is.\n",
    "print('Query has {:,} tokens.\\n'.format(len(input_ids)))\n",
    "\n",
    "# Segment Ids\n",
    "segment_ids = encoded_dict['token_type_ids']\n",
    "\n",
    "# evaluate\n",
    "output = model(torch.tensor([input_ids]), token_type_ids=torch.tensor([segment_ids]))\n",
    "\n",
    "# Find the tokens with the highest `start` and `end` scores.\n",
    "answer_start = torch.argmax(output['start_logits'])\n",
    "answer_end = torch.argmax(output['end_logits'])\n",
    "\n",
    "# Get the string versions of the input tokens.\n",
    "tokens = tokenizer.convert_ids_to_tokens(input_ids)\n",
    "\n",
    "\n",
    "# Start with the first token.\n",
    "answer = tokens[answer_start]\n",
    "\n",
    "# Select the remaining answer tokens and join them with whitespace.\n",
    "for i in range(answer_start + 1, answer_end + 1):\n",
    "\n",
    "    # If it's a subword token, then recombine it with the previous token.\n",
    "    if tokens[i][0:2] == '##':\n",
    "        answer += tokens[i][2:]\n",
    "\n",
    "    # Otherwise, add a space then the token.\n",
    "    else:\n",
    "        answer += ' ' + tokens[i]"
   ]
  },
  {
   "cell_type": "code",
   "execution_count": 7,
   "id": "a984e78d",
   "metadata": {},
   "outputs": [
    {
     "name": "stdout",
     "output_type": "stream",
     "text": [
      "Answer: \"narendra damodardas modibirth\"\n"
     ]
    }
   ],
   "source": [
    "print('Answer: \"' + answer + '\"')"
   ]
  },
  {
   "cell_type": "code",
   "execution_count": null,
   "id": "81053307",
   "metadata": {},
   "outputs": [],
   "source": []
  }
 ],
 "metadata": {
  "kernelspec": {
   "display_name": "Python 3 (ipykernel)",
   "language": "python",
   "name": "python3"
  },
  "language_info": {
   "codemirror_mode": {
    "name": "ipython",
    "version": 3
   },
   "file_extension": ".py",
   "mimetype": "text/x-python",
   "name": "python",
   "nbconvert_exporter": "python",
   "pygments_lexer": "ipython3",
   "version": "3.10.6"
  }
 },
 "nbformat": 4,
 "nbformat_minor": 5
}
